{
 "metadata": {},
 "nbformat": 3,
 "nbformat_minor": 0,
 "worksheets": [
  {
   "cells": [
    {
     "cell_type": "markdown",
     "metadata": {},
     "source": [
      "# Ultraquick Demo\n",
      "**Dec 16, 2014**\n",
      "\n",
      "### Starting point: basic math\n",
      "\n",
      "**Why Python?**\n",
      "\n",
      "Python is better than Matlab and C++ are for those with too much\n",
      "spare time.\n",
      "\n",
      "\n",
      "\n",
      "Let's add!"
     ]
    },
    {
     "cell_type": "markdown",
     "metadata": {},
     "source": [
      "$$\n",
      "a + b = c\n",
      "$$"
     ]
    },
    {
     "cell_type": "code",
     "collapsed": false,
     "input": [
      "a = 2\n",
      "b = 3\n",
      "c = a + b\n",
      "print c\n"
     ],
     "language": "python",
     "metadata": {},
     "outputs": [],
     "prompt_number": 1
    },
    {
     "cell_type": "markdown",
     "metadata": {},
     "source": [
      "### Moving on: breathtaking graphics\n",
      "\n",
      "Let's plot!"
     ]
    },
    {
     "cell_type": "markdown",
     "metadata": {},
     "source": [
      "$$\n",
      "f(x) = e^{-x^2}\n",
      "$$"
     ]
    },
    {
     "cell_type": "code",
     "collapsed": false,
     "input": [
      "%matplotlib inline\n",
      "\n",
      "from numpy import linspace, exp\n",
      "from matplotlib.pyplot import plot, show\n",
      "x = linspace(-4, 4, 101)\n",
      "y = exp(-x**2)\n",
      "plot(x, y)\n",
      "show()\n"
     ],
     "language": "python",
     "metadata": {},
     "outputs": [],
     "prompt_number": 1
    }
   ],
   "metadata": {}
  }
 ]
}
