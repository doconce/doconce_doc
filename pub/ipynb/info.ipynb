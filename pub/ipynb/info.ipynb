{
 "cells": [
  {
   "cell_type": "markdown",
   "metadata": {},
   "source": [
    "<!-- dom:TITLE: Special DocOnce features for Jupyter notebooks -->\n",
    "# Special DocOnce features for Jupyter notebooks\n",
    "<!-- dom:AUTHOR: Hans Petter Langtangen at Simula & University of Oslo -->\n",
    "<!-- Author: -->  \n",
    "**Hans Petter Langtangen**, Simula and University of Oslo\n",
    "\n",
    "Date: **Aug 26, 2020**\n",
    "\n",
    "DocOnce enables turning book chapters, manuals, research papers, and in fact any type of document into Jupyter Notebooks\n",
    "(formerly knowns as IPython Notebooks). This note outlines some special features that one should be aware of and that\n",
    "can be used to tune the notebook typesetting. \n",
    "\n",
    "# Interactive sessions\n",
    "\n",
    "By default, interactive Python sessions in `!bc pyshell` and `!bc ipy` environments are (for the `ipynb` format)\n",
    "split such that the output is removed and each input part is a separate cell. This means that when executing\n",
    "all the cells, one recreates the entire interactive session with all the output. Below is an example.\n",
    "\n",
    "## Solving the world's simplest differential equation\n",
    "<div id=\"ipynb:de:simplest\"></div>\n",
    "\n",
    "Let us explore SymPy to solve"
   ]
  },
  {
   "cell_type": "markdown",
   "metadata": {},
   "source": [
    "$$\n",
    "y' = y,\\quad y(0)=y_0 = 2\\thinspace .\n",
    "$$"
   ]
  },
  {
   "cell_type": "code",
   "execution_count": 1,
   "metadata": {
    "collapsed": false
   },
   "outputs": [],
   "source": [
    "from sympy import *\n",
    "init_printing(use_latex=True)  # find the best method to print\n",
    "t = symbols('t', real=True, positive=True)\n",
    "y = symbols('y', cls=Function)\n",
    "# Solve differential equation using dsolve\n",
    "eq = diff(y(t), t) - y(t)\n",
    "print(eq)"
   ]
  },
  {
   "cell_type": "code",
   "execution_count": 2,
   "metadata": {
    "collapsed": false
   },
   "outputs": [],
   "source": [
    "sol = dsolve(eq)\n",
    "print(sol)"
   ]
  },
  {
   "cell_type": "code",
   "execution_count": 3,
   "metadata": {
    "collapsed": false
   },
   "outputs": [],
   "source": [
    "y = sol.rhs          # grab right-hand side of equation\n",
    "# Determine integration constant C1 from initial condition\n",
    "C1 = symbols('C1')\n",
    "y0 = 2\n",
    "eq = y.subs(t, 0) - y0  # equation for initial condition\n",
    "print(eq)"
   ]
  },
  {
   "cell_type": "code",
   "execution_count": 4,
   "metadata": {
    "collapsed": false
   },
   "outputs": [],
   "source": [
    "sol = solve(eq, C1)     # solve wrt C1\n",
    "print(sol)"
   ]
  },
  {
   "cell_type": "code",
   "execution_count": 5,
   "metadata": {
    "collapsed": false
   },
   "outputs": [],
   "source": [
    "y = y.subs(C1, sol[0])  # insert C1=2 in solution\n",
    "print(y)"
   ]
  },
  {
   "cell_type": "code",
   "execution_count": 6,
   "metadata": {
    "collapsed": false
   },
   "outputs": [],
   "source": [
    "print(latex(y))"
   ]
  },
  {
   "cell_type": "markdown",
   "metadata": {},
   "source": [
    "The DocOnce input syntax of the first part of the above session looks like this"
   ]
  },
  {
   "cell_type": "markdown",
   "metadata": {},
   "source": [
    "        !bc pyshell\n",
    "        >>> from sympy import *\n",
    "        >>> t = symbols('t', real=True, positive=True)\n",
    "        >>> y = symbols('y', cls=Function)\n",
    "        >>> # Solve differential equation using dsolve\n",
    "        >>> eq = diff(y(t), t) - y(t)\n",
    "        >>> print(eq)\n",
    "        -y(t) + Derivative(y(t), t)\n",
    "        >>> sol = dsolve(eq)\n",
    "        >>> print(sol)\n",
    "        y(t) == C1*exp(t)\n",
    "        ...\n",
    "        ...\n",
    "        !ec\n"
   ]
  },
  {
   "cell_type": "markdown",
   "metadata": {},
   "source": [
    "That is, the interactive session looks exactly as it does in the terminal window with the primitive Python shell.\n",
    "\n",
    "We can, alternatively, use IPython syntax:"
   ]
  },
  {
   "cell_type": "markdown",
   "metadata": {},
   "source": [
    "        !bc ipy\n",
    "        In [1]: from sympy import *\n",
    "        In [2]: t = symbols('t', real=True, positive=True)\n",
    "        In [3]: y = symbols('y', cls=Function)\n",
    "        In [4]: # Solve differential equation using dsolve\n",
    "        In [5]: eq = diff(y(t), t) - y(t)\n",
    "        In [6]: print(eq)\n",
    "        Out[6]: -y(t) + Derivative(y(t), t)\n",
    "        In [7]: sol = dsolve(eq)\n",
    "        In [8]: print(sol)\n",
    "        Out[8]: y(t) == C1*exp(t)\n",
    "        !ec\n"
   ]
  },
  {
   "cell_type": "markdown",
   "metadata": {},
   "source": [
    "This last `ipy` environment results in exactly the same interactive session in all formats except `ipynb` where the\n",
    "output is removed and the input is split over *two* cells. In format **ipynb** the above block is rendered as"
   ]
  },
  {
   "cell_type": "code",
   "execution_count": 7,
   "metadata": {
    "collapsed": false
   },
   "outputs": [],
   "source": [
    "from sympy import *\n",
    "t = symbols('t', real=True, positive=True)\n",
    "y = symbols('y', cls=Function)\n",
    "# Solve differential equation using dsolve\n",
    "eq = diff(y(t), t) - y(t)\n",
    "print(eq)"
   ]
  },
  {
   "cell_type": "code",
   "execution_count": 8,
   "metadata": {
    "collapsed": false
   },
   "outputs": [],
   "source": [
    "sol = dsolve(eq)\n",
    "print(sol)"
   ]
  },
  {
   "cell_type": "markdown",
   "metadata": {},
   "source": [
    "There is an option `--ipynb_split_pyshell=off` that can be given to `doconce format ipynb` when compiling documents and\n",
    "that turns off the behaviour that interactive sessions are split into multiple cells. The result is then one single\n",
    "cell, and if we have \"printing\" as in `>>> eq`, there will be no output, except from the last one, in the output field\n",
    "in the notebook. This is usually not the behavior you want.\n",
    "\n",
    "\n",
    "\n",
    "\n",
    "## Showing an interactive session as pure text\n",
    "\n",
    "Sometimes one wants to show an interactive session exactly as it looks like, with the input and the output.\n",
    "This can be done in the notebook by using the `pyshell-t` or `ipy-t` environments (`-t` for *plain text* display). With\n",
    "this DocOnce input,"
   ]
  },
  {
   "cell_type": "markdown",
   "metadata": {},
   "source": [
    "        !bc pyshell-t\n",
    "        >>> a = 1\n",
    "        >>> b = 2\n",
    "        >>> a + b\n",
    "        3\n",
    "        !ec\n"
   ]
  },
  {
   "cell_type": "markdown",
   "metadata": {},
   "source": [
    "we get the plain text"
   ]
  },
  {
   "cell_type": "markdown",
   "metadata": {},
   "source": [
    "```Python\n",
    "        >>> a = 1\n",
    "        >>> b = 2\n",
    "        >>> a + b\n",
    "        3\n",
    "```"
   ]
  },
  {
   "cell_type": "markdown",
   "metadata": {},
   "source": [
    "The `-t` postfix can be used for any code that you want to display as text rather than as an executable cell. For\n",
    "example, with `!bc pycod-t` we create verbatim text and not a cell:"
   ]
  },
  {
   "cell_type": "markdown",
   "metadata": {},
   "source": [
    "```Python\n",
    "        import MySpecialModule as m\n",
    "        print(m.main())\n",
    "```"
   ]
  },
  {
   "cell_type": "markdown",
   "metadata": {},
   "source": [
    "# Ordinary code blocks\n",
    "\n",
    "For ordinary book and manual writing, interactive sessions are used when the results of statements are\n",
    "important. Otherwise one applies standard code blocks. A standard code block can for example be"
   ]
  },
  {
   "cell_type": "markdown",
   "metadata": {},
   "source": [
    "        !bc pycod\n",
    "        x = np.linspace(0, 4*np.pi, 501)\n",
    "        y = np.exp(-0.5*x)*np.sin(np.pi*x)\n",
    "        plt.plot(x, y)\n",
    "        !ec\n",
    "        The result of this code segment appears in Figure ref{myfig1}.\n",
    "        \n",
    "        FIGURE: [fig/myfig, width=500 frac=0.8] Plot. label{myfig1}\n"
   ]
  },
  {
   "cell_type": "markdown",
   "metadata": {},
   "source": [
    "This snippet turns out fine in all formats, except the notebook. The problem with notebooks is two-fold:\n",
    "\n",
    "1. The snippet does not run without import of `numpy` and `matplotlib`.\n",
    "\n",
    "2. The snippet results in a plot automatically, and with the figure\n",
    "   in addittion, we get two plots.\n",
    "\n",
    "The remedy for problem 1 is to use *hidden code blocks*, notified as `!bc pyhid` for Python code and `!bc Xhid` in\n",
    "general for language `X`:"
   ]
  },
  {
   "cell_type": "markdown",
   "metadata": {},
   "source": [
    "        !bc pyhid\n",
    "        import numpy as np\n",
    "        import matplotlib.pyplot as plt\n",
    "        !ec\n"
   ]
  },
  {
   "cell_type": "markdown",
   "metadata": {},
   "source": [
    "Such code blocks are invisible in all formats except for `ipynb`. Books, manuals, and research papers will very often\n",
    "contain code snippets that do not run without (extensive) extra code. This extra code must be provided in hidden code\n",
    "blocks for successful conversion to notebooks. If these cells take too much attention (that is probably why they were\n",
    "left out of the text...), one can insert some comments to explain that fact.\n",
    "\n",
    "Problem 2 is solved using one of the preprocessors and an if test on the format, e.g., with Preprocess:"
   ]
  },
  {
   "cell_type": "markdown",
   "metadata": {},
   "source": [
    "        # #if FORMAT != 'ipynb'\n",
    "        The result of this code segment appears in Figure ref{myfig2}.\n",
    "        \n",
    "        FIGURE: [fig/myfig, width=500 frac=0.8] Plot. label{myfig2}\n",
    "        # #endif\n"
   ]
  },
  {
   "cell_type": "markdown",
   "metadata": {},
   "source": [
    "Now we can write the complete code segment with a preceding hidden block for import and the if test. Below is the\n",
    "rendering of this in the format **ipynb**.\n",
    "\n",
    "<!-- Note: since Preprocess is used in verbatim block above, we must compile -->\n",
    "<!-- this document with --no_preprocess and therefore use Mako if test -->\n",
    "<!-- to test on the format -->"
   ]
  },
  {
   "cell_type": "code",
   "execution_count": 9,
   "metadata": {
    "collapsed": true
   },
   "outputs": [],
   "source": [
    "%matplotlib inline\n",
      "import numpy as np\n",
    "import matplotlib.pyplot as plt"
   ]
  },
  {
   "cell_type": "code",
   "execution_count": 10,
   "metadata": {
    "collapsed": false
   },
   "outputs": [],
   "source": [
    "x = np.linspace(0, 4*np.pi, 501)\n",
    "y = np.exp(-0.5*x)*np.sin(np.pi*x)\n",
    "plt.plot(x, y)"
   ]
  },
  {
   "cell_type": "markdown",
   "metadata": {},
   "source": [
    "Note that `%matplotlib inline` is automatically inserted before the first import of `matplotlib` in a DocOnce-generated\n",
    "notebook such that all plots are inlined. \n",
    "\n",
    "(Hidden code blocks are also relevant for RunestoneInteractive books, which are made from Sphinx output.)\n",
    "\n",
    "# Other special options for notebooks\n",
    "\n",
    "## Figures and movies\n",
    "\n",
    "Figures and movies can be implemented in several ways in notebooks, depending on the value of the options\n",
    "`--ipynb_figure=` and `ipynb_movie=`. For the former we have the values\n",
    "\n",
    " * `md`: plain Markdown syntax for a figure, with no possibility to adjust\n",
    "   the size (default)\n",
    "\n",
    " * `imgtag`: `<img ...>` tag in HTML taking the specified width into account\n",
    "\n",
    " * `Image`: Python notebook cell with `Image` object\n",
    "\n",
    "Below is an example\n",
    "with `--ipynb_figure=imgtag`.\n",
    "\n",
    "<!-- dom:FIGURE: [https://raw.githubusercontent.com/hplgit/doconce/master/doc/src/manual/fig/wave1D.png, width=400] -->\n",
    "<!-- begin figure -->\n",
    "\n",
    "<p></p>\n",
    "<img src=\"https://raw.githubusercontent.com/hplgit/doconce/master/doc/src/manual/fig/wave1D.png\" width=400>\n",
    "\n",
    "<!-- end figure -->\n",
    "\n",
    "\n",
    "\n",
    "For the movies we have the values\n",
    "\n",
    " * `md`: raw HTML code with `iframe` tag - not relevant for the notebook\n",
    "\n",
    " * `HTML`: raw HTML code with `iframe` tag\n",
    "    embedded in the `HTML` object from the notebook (default)\n",
    "\n",
    " * `HTML-YouTube`: as `HTML` but use an `IPython.display.YouTubeVideo`\n",
    "   object to display YouTube videos\n",
    "\n",
    " * `ipynb`: use `IPython.display.YouTubeVideo` object for YouTube videos,\n",
    "   and use an `HTML` object with `video` tag for local movies\n",
    "\n",
    "Below is an example\n",
    "with `--ipynb_movie=ipynb`.\n",
    "Execute the cell to create the YouTube video object.\n",
    "\n",
    "<!-- dom:MOVIE: [http://youtu.be/PtJrPEIHNJw, width=640 height=480] -->\n",
    "<!-- begin movie -->"
   ]
  },
  {
   "cell_type": "code",
   "execution_count": 11,
   "metadata": {
    "collapsed": false
   },
   "outputs": [],
   "source": [
    "from IPython.display import YouTubeVideo\n",
    "YouTubeVideo(\"PtJrPEIHNJw\")"
   ]
  },
  {
   "cell_type": "markdown",
   "metadata": {},
   "source": [
    "<!-- end movie -->\n",
    "\n",
    "\n",
    "\n",
    "## Admonitions\n",
    "\n",
    "Markdown has no support for admonitions while DocOnce has extensive support. Some methods for simulating admonitions in\n",
    "notebooks have therefore been implemented. These are specified by the `--ipynb_admon=` command-line option.\n",
    "\n",
    " * `quote`: typeset admon as Markdown quote (special font and gray vertical bar on the left)\n",
    "\n",
    " * `paragraph`: typeset admon as a plain paragraph with a heading if any (default)\n",
    "\n",
    " * `hrule`: use a horozontal rule to surround the heading and the text\n",
    "\n",
    "Note that quotes in `!bc quote` environments are always typeset as Markdown quotes.\n",
    "\n",
    "Here are two examples\n",
    "typeset with `--ipynb_admon=hrule`.\n",
    "\n",
    "\n",
    "\n",
    "<hr/>\n",
    "**Notebooks have limited support for typesetting admons.**\n",
    "\n",
    "Admon environments must be simulated using Markdown quote environment, a plain paragraph, or decorations with HTML\n",
    "`<hr>` hrules.\n",
    "<hr/>\n",
    "\n",
    "\n",
    "\n",
    "\n",
    "\n",
    "<hr/>\n",
    "**Splitting documents.**\n",
    "\n",
    "Formats like `html` and `sphinx` support splitting documents into multiple web pages. The `!split` specification has no\n",
    "support in notebooks. This means that long documents *must* be long notebooks.\n",
    "<hr/>\n",
    "\n",
    "\n",
    "\n",
    "\n",
    "# Equation references\n",
    "\n",
    "Markdown (and thereby the Jupyter Notebook) does not support references to equations."
   ]
  },
  {
   "cell_type": "markdown",
   "metadata": {},
   "source": [
    "<!-- Equation labels as ordinary links -->\n",
    "<div id=\"eq1\"></div>\n",
    "\n",
    "$$\n",
    "\\begin{equation}\n",
    "a = 1,\n",
    "\\label{eq1} \\tag{1}\n",
    "\\end{equation}\n",
    "$$"
   ]
  },
  {
   "cell_type": "markdown",
   "metadata": {},
   "source": [
    "<!-- Equation labels as ordinary links -->\n",
    "<div id=\"eq2\"></div>\n",
    "\n",
    "$$\n",
    "\\begin{equation}  \n",
    "b  =2\n",
    "\\label{eq2} \\tag{2}\n",
    "\\end{equation}\n",
    "$$"
   ]
  },
  {
   "cell_type": "markdown",
   "metadata": {},
   "source": [
    "Can we refer to ([1](#eq1)) and ([2](#eq2)) in format `ipynb`? Yes, in DocOnce-extended `ipynb` format, but not when\n",
    "writing notebooks interactively in the browser and using Markdown with LaTeX. \n",
    "\n",
    "# Translating notebooks to DocOnce\n",
    "\n",
    "## The `ipynb2doconce` tool\n",
    "\n",
    "There is a program `doconce ipynb2doconce` for translating a notebook file to DocOnce format:"
   ]
  },
  {
   "cell_type": "markdown",
   "metadata": {},
   "source": [
    "        Terminal> doconce ipynb2doconce notebook.ipynb\n"
   ]
  },
  {
   "cell_type": "markdown",
   "metadata": {},
   "source": [
    "The output file `notebook.do.txt` should be an ordinary DocOnce file.\n",
    "With an optional argument `--cell_delimiter`, comment lines a la `# ---------- code cell` act in the as delimiter between the *markdown* and *code* cells in the\n",
    "`.do.txt` file.\n",
    "\n",
    "## Special comment annotations in the `.ipynb` file\n",
    "\n",
    "In order to translate a DocOnce document to the Jupyter Notebook format\n",
    "and back again, some information needs to be coded as comments\n",
    "in the notebook and such that it can be brought back to DocOnce syntax.\n",
    "For example, index workds (`idx`) and labels are coded in comments, so\n",
    "are the original DocOnce figure and movie commands (which contain more\n",
    "information than what the notebook normally can make use of).\n",
    "Comments in the `.ipynb` file starting with `dom:` (DocOnce Metadata)\n",
    "contain coded information that can be translated back to DocOnce (see\n",
    "below for examples).\n",
    "\n",
    "It is possible to write ordinary DocOnce documents with index words, labels,\n",
    "cross references, etc.; translate the document to a notebook; edit\n",
    "and expand the notebook interactively; and convert the notebook to\n",
    "a DocOnce document again - with preservation of index words, labels, etc.,\n",
    "despite the fact that the notebook does not know about such syntax\n",
    "and construction. If you want to insert title, authors, date,\n",
    "index words, labels,\n",
    "figures, or movies in the notebook, use these types of constructions\n",
    "while writing a markdown cell in the notebook:"
   ]
  },
  {
   "cell_type": "markdown",
   "metadata": {},
   "source": [
    "        <!-- dom:TITLE: Here goes the title -->\n",
    "        # Here goes the title\n",
    "        <!-- dom:AUTHOR: HPL Email:hpl@simula.no at Simula & UiO -->\n",
    "        <!-- Author: --> **HPL** (email: `hpl@simula.no`), Simula and UiO\n",
    "        \n",
    "        <!-- dom:AUTHOR: Kaare Dump at Segfault, Cyberspace -->\n",
    "        <!-- Author: --> **Kaare Dump**, Segfault, Cyberspace\n",
    "        \n",
    "        Date: **May 25, 2015**\n",
    "        \n",
    "        # Section heading\n",
    "        <!-- dom:\\label{mysubsec} -->\n",
    "        <!-- dom:idx{headigs} -->\n",
    "        <!-- dom:idx{section} -->\n",
    "        \n",
    "        Some text...\n",
    "        \n",
    "        <!-- dom:FIGURE: [fig/myfig, width=500 frac=0.6] This is a caption. -->\n",
    "        <!-- begin figure -->\n",
    "        <p>This is a caption.</p>\n",
    "        <img src=\"fig/myfig.png\" width=500>\n",
    "        <!-- end figure -->\n"
   ]
  },
  {
   "cell_type": "markdown",
   "metadata": {},
   "source": [
    "It is important to respect whitespace exactly as shown in this example.\n",
    "The `dom:` syntax must be the valid DocOnce syntax used when translating\n",
    "the document back to DocOnce format, while the Markdown lines coming\n",
    "after are the ones that can been seen in the present version of\n",
    "the notebook (these are removed forever when converting the notebook to\n",
    "DocOnce format).\n",
    "\n",
    "\n",
    "\n",
    "<hr/>\n",
    "**Mako code is lost!**\n",
    "\n",
    "Any Preprocess or Mako code one has in a DocOnce document is lost forever when\n",
    "converting to a Jupyter Notebook.\n",
    "<hr/>\n",
    "\n",
    "\n",
    "\n",
    "As a specific example on generating a notebook and converting it back,\n",
    "consider the [`example.do.txt`](https://github.com/hplgit/doconce/blob/master/doc/src/ipynb/example.do.txt) file:"
   ]
  },
  {
   "cell_type": "markdown",
   "metadata": {},
   "source": [
    "        Terminal> cp example.do.txt tmp1.do.txt\n",
    "        Terminal> doconce format ipynb tmp1\n",
    "        Terminal> cp tmp1.ipynb tmp2.ipynb\n",
    "        Terminal> doconce ipynb2doconce tmp2.ipynb\n",
    "        Terminal> doconce diff tmp1.do.txt tmp2.do.txt\n",
    "        Termonal> google-chrome tmp_diff_tmp2.do.txt.html\n"
   ]
  }
 ],
 "metadata": {},
 "nbformat": 4,
 "nbformat_minor": 4
}
