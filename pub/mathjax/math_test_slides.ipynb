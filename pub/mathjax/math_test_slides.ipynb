{
 "cells": [
  {
   "cell_type": "markdown",
   "metadata": {},
   "source": [
    "<!-- dom:TITLE: Math Test for Use with Slides -->\n",
    "# Math Test for Use with Slides\n",
    "<!-- dom:AUTHOR: Mirco Meiners at Hochschule Bremen - City University of Applied Sciences -->\n",
    "<!-- Author: --> **Mirco Meiners**, Hochschule Bremen - City University of Applied Sciences\n",
    "\n",
    "Date: **May 29, 2016**\n",
    "\n",
    "# Network Analysis\n",
    "This presentation is a test vehicle for MathJax test to be used in different types of slides.\n",
    "As electrical engineer one needs to do network analysis very often. Such analysis are represented\n",
    "by ordenary differential equations or state-space models.\n",
    "\n",
    "\n",
    "\n",
    "\n",
    "## Network Analysis of Periodic Signals\n",
    "\n",
    "Node 0:"
   ]
  },
  {
   "cell_type": "markdown",
   "metadata": {},
   "source": [
    "$$\n",
    "\\begin{align*}\n",
    "-i_0 - i_1 - i_5 &= 0 \\\\\n",
    "-G_1(v_3-v_0) - C_5 {\\frac{d }{d t}}(v_1-v_0) &= i_0\n",
    "\\end{align*}\n",
    "$$"
   ]
  },
  {
   "cell_type": "markdown",
   "metadata": {},
   "source": [
    "Node 1:"
   ]
  },
  {
   "cell_type": "markdown",
   "metadata": {},
   "source": [
    "$$\n",
    "\\begin{align*}\n",
    "-i_2 + i_3 + i_5 + i_6 &= 0 \\\\\n",
    "-G_2(v_3-v_1) + G_3(v_1-v_3) + C_5 {\\frac{d }{d t}}(v_1-v_0) + C_6 {\\frac{d }{d t}}(v_1-v_6) &= 0\n",
    "\\end{align*}\n",
    "$$"
   ]
  },
  {
   "cell_type": "markdown",
   "metadata": {},
   "source": [
    "## ODE System"
   ]
  },
  {
   "cell_type": "markdown",
   "metadata": {},
   "source": [
    "$$\n",
    "\\begin{align*}\n",
    "\\begin{pmatrix}\n",
    "G_2 + G_3 & -G_3 & -G_2 & 0 \\\\\n",
    "-G_3 & G_3 + G_4 & 0 & -G_4 \\\\\n",
    "-G_2 & 0 & G_1 + G_2 & 0 \\\\\n",
    "0 & -G_4 & 0 & G_4\n",
    "\\end{pmatrix}\n",
    "\\begin{pmatrix}\n",
    "v_1 \\\\\n",
    "v_2 \\\\\n",
    "v_3 \\\\\n",
    "v_4\n",
    "\\end{pmatrix}\n",
    "&+ \\cdots \\\\ \n",
    "\\begin{pmatrix}\n",
    "C_5 + C_6 & -C_6 & 0 & 0 \\\\\n",
    "-C_6 & C_6 & 0 & 0 \\\\\n",
    "0 & 0 & 0 & 0 \\\\\n",
    "0 & 0 & 0 & 0\n",
    "\\end{pmatrix}\n",
    "\\frac{d}{dt}\n",
    "\\begin{pmatrix}\n",
    "v_1 \\\\\n",
    "v_2 \\\\\n",
    "v_3 \\\\\n",
    "v_4\n",
    "\\end{pmatrix} &=\n",
    "\\begin{pmatrix}\n",
    "0 \\\\\n",
    "0 \\\\\n",
    "0 \\\\\n",
    "-i_0\n",
    "\\end{pmatrix}\n",
    "\\end{align*}\n",
    "$$"
   ]
  },
  {
   "cell_type": "markdown",
   "metadata": {},
   "source": [
    "## Compact Description"
   ]
  },
  {
   "cell_type": "markdown",
   "metadata": {},
   "source": [
    "$$\n",
    "\\begin{align*}\n",
    "\\mathbf{A} \\mathbf{x} + \\mathbf{B} \\dot{\\mathbf{x}} &= \\mathbf{b} \\\\\n",
    "\\dot{\\mathbf{x}} &= -\\mathbf{B}^{-1}\\mathbf{A}\\mathbf{x} + \\mathbf{B}^{-1}\\mathbf{b}(t) \\\\\n",
    "&= \\mathbf{T}\\mathbf{x} + \\mathbf{g}(t)\n",
    "\\end{align*}\n",
    "$$"
   ]
  },
  {
   "cell_type": "markdown",
   "metadata": {},
   "source": [
    "## Kirchhoff's Voltage Law\n",
    "\n",
    "Choice of independent currents $I_M$: $I_1, I_4, I_7, I_8$\n",
    "\n",
    "State-space analysis in laplace domain:"
   ]
  },
  {
   "cell_type": "markdown",
   "metadata": {},
   "source": [
    "$$\n",
    "\\begin{align*}\n",
    "\\begin{pmatrix}\n",
    "I_2 \\\\\n",
    "I_3 \\\\\n",
    "I_5 \\\\\n",
    "I_6 \\\\\n",
    "I_9 \\\\\n",
    "I_{10}\n",
    "\\end{pmatrix}\n",
    "&=\n",
    "\\begin{pmatrix}\n",
    "-1 & -1 & -1 & 0 \\\\\n",
    "-1 & 0 & -1 & 0 \\\\\n",
    "0 & -1 & -1 & 0 \\\\\n",
    "0 & -1 & -1 & 0 \\\\\n",
    "0 & 1 & 1 & -1 \\\\\n",
    "0 & 0 & 1 & -1 \\\\\n",
    "\\end{pmatrix}\n",
    "\\begin{pmatrix}\n",
    "I_1 \\\\\n",
    "I_4 \\\\\n",
    "I_7 \\\\\n",
    "I_8\n",
    "\\end{pmatrix}\n",
    "\\end{align*}\n",
    "$$"
   ]
  },
  {
   "cell_type": "markdown",
   "metadata": {},
   "source": [
    "## Loop Equation"
   ]
  },
  {
   "cell_type": "markdown",
   "metadata": {},
   "source": [
    "$$\n",
    "\\begin{align*}\n",
    "I_1 Z_1 - I_2 Z_2 - I_3 Z_3 &= 0 \\\\\n",
    "U_4 + I_4 Z_4 + I_9 + Z_9 - I_6 Z_6 - I_5 Z_5 - I_2 Z_2 &= 0 \\\\\n",
    "I_7 Z_7 + I_{10} Z_{10} + I_9 Z_9 - I_6 Z_6 - I_5 Z_5 - I_2 Z_2 -I_3 Z_3 &= 0 \\\\\n",
    "U_8 + I_8 Z_8 - I_9 Z_9 - I_{10} Z_{10} &= 0\n",
    "\\end{align*}\n",
    "$$"
   ]
  },
  {
   "cell_type": "markdown",
   "metadata": {},
   "source": [
    "## Sorting and Preperation for Linear Equation System"
   ]
  },
  {
   "cell_type": "markdown",
   "metadata": {},
   "source": [
    "$$\n",
    "\\begin{align*}\n",
    "\\begin{pmatrix}\n",
    "\\sum Z_{1,3} & Z_2 & \\sum Z_{2,3} & 0 \\\\\n",
    "Z_2 & \\sum Z_{2,4,5,6,9} & \\sum Z_{2,5,6,9,10} & -Z_9 \\\\\n",
    "\\sum Z_{2,3} & \\sum Z_{2,5,6,9,10} & \\sum Z_{2,3,5,6,7,9,10} &\n",
    "\\sum -Z_{9,10} \\\\\n",
    "0 & -Z_9 & \\sum -Z_{9,10} & \\sum Z_{8,9,10}\n",
    "\\end{pmatrix}\n",
    "\\begin{pmatrix}\n",
    "I_1 \\\\\n",
    "I_4 \\\\\n",
    "I_7 \\\\\n",
    "I_8\n",
    "\\end{pmatrix}\n",
    "&=\n",
    "\\begin{pmatrix}\n",
    "0 \\\\\n",
    "-U_4 \\\\\n",
    "0 \\\\\n",
    "-U_8\n",
    "\\end{pmatrix}\n",
    "\\end{align*}\n",
    "$$"
   ]
  }
 ],
 "metadata": {},
 "nbformat": 4,
 "nbformat_minor": 0
}
