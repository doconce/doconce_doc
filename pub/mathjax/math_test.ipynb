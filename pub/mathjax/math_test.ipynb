{
 "cells": [
  {
   "cell_type": "markdown",
   "metadata": {},
   "source": [
    "<!-- dom:TITLE: How various formats can deal with LaTeX math -->\n",
    "# How various formats can deal with LaTeX math\n",
    "<!-- dom:AUTHOR: Hans Petter Langtangen at Simula Research Laboratory & University of Oslo -->\n",
    "<!-- Author: --> **Hans Petter Langtangen**, Simula Research Laboratory and University of Oslo\n",
    "\n",
    "Date: **May 29, 2016**\n",
    "\n",
    "**Summary.** The purpose of this document is to test LaTeX math in DocOnce with\n",
    "various output formats.  Most LaTeX math constructions are renedered\n",
    "correctly by MathJax in plain HTML, but some combinations of\n",
    "constructions may fail.  Unfortunately, only a subset of what works in\n",
    "html MathJax also works in sphinx MathJax. The same is true for\n",
    "markdown MathJax expresions (e.g., Jupyter notebooks).  Tests and\n",
    "examples are provided to illustrate what may go wrong.\n",
    "\n",
    "The recommendation for writing math that translates to MathJax in\n",
    "html, sphinx, and markdown is to stick to the environments `\\[\n",
    "... \\]`, `equation`, `equation*`, `align`, `align*`, `alignat`, and\n",
    "`alignat*` only. Test the math with sphinx output; if it works in that\n",
    "format, it should work elsewhere too.\n",
    "\n",
    "The current version of the document is translated from DocOnce source\n",
    "to the format **ipynb**.\n",
    "\n",
    "\n",
    "\n",
    "# Test of equation environments\n",
    "\n",
    "## Test 1: Inline math\n",
    "\n",
    "We can get an inline equation\n",
    "`$u(t)=e^{-at}$` rendered as $u(t)=e^{-at}$.\n",
    "\n",
    "## Test 2: A single equation with label\n",
    "\n",
    "An equation with number,"
   ]
  },
  {
   "cell_type": "markdown",
   "metadata": {},
   "source": [
    "        !bt\n",
    "        \\begin{equation} u(t)=e^{-at} \\label{eq1a}\\end{equation}\n",
    "        !et\n"
   ]
  },
  {
   "cell_type": "markdown",
   "metadata": {},
   "source": [
    "looks like"
   ]
  },
  {
   "cell_type": "markdown",
   "metadata": {},
   "source": [
    "<!-- Equation labels as ordinary links -->\n",
    "<div id=\"eq1a\"></div>\n",
    "\n",
    "$$\n",
    "\\begin{equation} u(t)=e^{-at} \\label{eq1a} \\tag{1}\\end{equation}\n",
    "$$"
   ]
  },
  {
   "cell_type": "markdown",
   "metadata": {},
   "source": [
    "Maybe this multi-line version is what we actually prefer to write:"
   ]
  },
  {
   "cell_type": "markdown",
   "metadata": {},
   "source": [
    "        !bt\n",
    "        \\begin{equation}\n",
    "        u(t)=e^{-at}\n",
    "        \\label{eq1b}\n",
    "        \\end{equation}\n",
    "        !et\n"
   ]
  },
  {
   "cell_type": "markdown",
   "metadata": {},
   "source": [
    "The result is the same:"
   ]
  },
  {
   "cell_type": "markdown",
   "metadata": {},
   "source": [
    "<!-- Equation labels as ordinary links -->\n",
    "<div id=\"eq1b\"></div>\n",
    "\n",
    "$$\n",
    "\\begin{equation}\n",
    "u(t)=e^{-at} \\label{eq1b} \\tag{2}\n",
    "\\end{equation}\n",
    "$$"
   ]
  },
  {
   "cell_type": "markdown",
   "metadata": {},
   "source": [
    "We can refer to this equation through its label `eq1b`: [(2)](#eq1b).\n",
    "\n",
    "\n",
    "## Test 3: Multiple, aligned equations without label and number\n",
    "\n",
    "MathJax has historically had some problems with rendering many LaTeX\n",
    "math environments, but the `align*` and `align` environments have\n",
    "always worked."
   ]
  },
  {
   "cell_type": "markdown",
   "metadata": {},
   "source": [
    "        !bt\n",
    "        \\begin{align*}\n",
    "        u(t)&=e^{-at}\\\\\n",
    "        v(t) - 1 &= \\frac{du}{dt}\n",
    "        \\end{align*}\n",
    "        !et\n"
   ]
  },
  {
   "cell_type": "markdown",
   "metadata": {},
   "source": [
    "Result:"
   ]
  },
  {
   "cell_type": "markdown",
   "metadata": {},
   "source": [
    "$$\n",
    "\\begin{align*}\n",
    "u(t)&=e^{-at}\\\\ \n",
    "v(t) - 1 &= \\frac{du}{dt}\n",
    "\\end{align*}\n",
    "$$"
   ]
  },
  {
   "cell_type": "markdown",
   "metadata": {},
   "source": [
    "## Test 4: Multiple, aligned equations with label\n",
    "\n",
    "Here, we use `align` with user-prescribed labels:"
   ]
  },
  {
   "cell_type": "markdown",
   "metadata": {},
   "source": [
    "        !bt\n",
    "        \\begin{align}\n",
    "        u(t)&=e^{-at}\n",
    "        \\label{eq2b}\\\\\n",
    "        v(t) - 1 &= \\frac{du}{dt}\n",
    "        \\label{eq3b}\n",
    "        \\end{align}\n",
    "        !et\n"
   ]
  },
  {
   "cell_type": "markdown",
   "metadata": {},
   "source": [
    "Result:"
   ]
  },
  {
   "cell_type": "markdown",
   "metadata": {},
   "source": [
    "<!-- Equation labels as ordinary links -->\n",
    "<div id=\"eq2b\"></div>\n",
    "\n",
    "$$\n",
    "\\begin{equation}\n",
    "u(t)=e^{-at}\n",
    "\\label{eq2b} \\tag{3}\n",
    "\\end{equation}\n",
    "$$"
   ]
  },
  {
   "cell_type": "markdown",
   "metadata": {},
   "source": [
    "<!-- Equation labels as ordinary links -->\n",
    "<div id=\"eq3b\"></div>\n",
    "\n",
    "$$\n",
    "\\begin{equation}  \n",
    "v(t) - 1 = \\frac{du}{dt}\n",
    "\\label{eq3b} \\tag{4}\n",
    "\\end{equation}\n",
    "$$"
   ]
  },
  {
   "cell_type": "markdown",
   "metadata": {},
   "source": [
    "We can refer to the last equations as the system [(3)](#eq2b)-[(4)](#eq3b).\n",
    "\n",
    "\n",
    "\n",
    "\n",
    "## Test 5: Multiple, aligned equations without label\n",
    "\n",
    "In LaTeX, equations within an `align` environment is automatically\n",
    "given numbers.  To ensure that an html document with MathJax gets the\n",
    "same equation numbers as its latex/pdflatex companion, DocOnce\n",
    "generates labels in equations where there is no label prescribed. For\n",
    "example,"
   ]
  },
  {
   "cell_type": "markdown",
   "metadata": {},
   "source": [
    "        !bt\n",
    "        \\begin{align}\n",
    "        u(t)&=e^{-at}\n",
    "        \\\\\n",
    "        v(t) - 1 &= \\frac{du}{dt}\n",
    "        \\end{align}\n",
    "        !et\n"
   ]
  },
  {
   "cell_type": "markdown",
   "metadata": {},
   "source": [
    "is edited to something like"
   ]
  },
  {
   "cell_type": "markdown",
   "metadata": {},
   "source": [
    "        !bt\n",
    "        \\begin{align}\n",
    "        u(t)&=e^{-at}\n",
    "        \\label{_auto5}\\\\\n",
    "        v(t) - 1 &= \\frac{du}{dt}\n",
    "        \\label{_auto6}\n",
    "        \\end{align}\n",
    "        !et\n"
   ]
  },
  {
   "cell_type": "markdown",
   "metadata": {},
   "source": [
    "and the output gets the two equation numbered."
   ]
  },
  {
   "cell_type": "markdown",
   "metadata": {},
   "source": [
    "<!-- Equation labels as ordinary links -->\n",
    "<div id=\"_auto1\"></div>\n",
    "\n",
    "$$\n",
    "\\begin{equation}\n",
    "u(t)=e^{-at}\n",
    "\\label{_auto1} \\tag{5}\n",
    "\\end{equation}\n",
    "$$"
   ]
  },
  {
   "cell_type": "markdown",
   "metadata": {},
   "source": [
    "<!-- Equation labels as ordinary links -->\n",
    "<div id=\"_auto2\"></div>\n",
    "\n",
    "$$\n",
    "\\begin{equation}  \n",
    "v(t) - 1 = \\frac{du}{dt}\n",
    "\\label{_auto2} \\tag{6}\n",
    "\\end{equation}\n",
    "$$"
   ]
  },
  {
   "cell_type": "markdown",
   "metadata": {},
   "source": [
    "## Test 6: Multiple, aligned equations with multiple alignments\n",
    "\n",
    "The `align` environment can be used with two `&` alignment characters, e.g.,"
   ]
  },
  {
   "cell_type": "markdown",
   "metadata": {},
   "source": [
    "        !bt\n",
    "        \\begin{align}\n",
    "        \\frac{\\partial u}{\\partial t} &= \\nabla^2 u, & x\\in (0,L),\n",
    "        \\ t\\in (0,T]\\\\\n",
    "        u(0,t) &= u_0(x), & x\\in [0,L]\n",
    "        \\end{align}\n",
    "        !et\n"
   ]
  },
  {
   "cell_type": "markdown",
   "metadata": {},
   "source": [
    "The result in ipynb becomes"
   ]
  },
  {
   "cell_type": "markdown",
   "metadata": {},
   "source": [
    "<!-- Equation labels as ordinary links -->\n",
    "<div id=\"_auto3\"></div>\n",
    "\n",
    "$$\n",
    "\\begin{equation}\n",
    "\\frac{\\partial u}{\\partial t} = \\nabla^2 u,  x\\in (0,L),\n",
    "\\ t\\in (0,T]\n",
    "\\label{_auto3} \\tag{7}\n",
    "\\end{equation}\n",
    "$$"
   ]
  },
  {
   "cell_type": "markdown",
   "metadata": {},
   "source": [
    "<!-- Equation labels as ordinary links -->\n",
    "<div id=\"_auto4\"></div>\n",
    "\n",
    "$$\n",
    "\\begin{equation}  \n",
    "u(0,t) = u_0(x),  x\\in [0,L]\n",
    "\\label{_auto4} \\tag{8}\n",
    "\\end{equation}\n",
    "$$"
   ]
  },
  {
   "cell_type": "markdown",
   "metadata": {},
   "source": [
    "A better solution is usually to use an `alignat` environment:"
   ]
  },
  {
   "cell_type": "markdown",
   "metadata": {},
   "source": [
    "        !bt\n",
    "        \\begin{alignat}{2}\n",
    "        \\frac{\\partial u}{\\partial t} &= \\nabla^2 u, & x\\in (0,L),\n",
    "        \\ t\\in (0,T]\\\\\n",
    "        u(0,t) &= u_0(x), & x\\in [0,L]\n",
    "        \\end{alignat}\n",
    "        !et\n"
   ]
  },
  {
   "cell_type": "markdown",
   "metadata": {},
   "source": [
    "with the rendered result"
   ]
  },
  {
   "cell_type": "markdown",
   "metadata": {},
   "source": [
    "<!-- Equation labels as ordinary links -->\n",
    "<div id=\"_auto5\"></div>\n",
    "\n",
    "$$\n",
    "\\begin{equation}\n",
    "\\frac{\\partial u}{\\partial t} = \\nabla^2 u,  x\\in (0,L),\n",
    "\\ t\\in (0,T]\n",
    "\\label{_auto5} \\tag{9}\n",
    "\\end{equation}\n",
    "$$"
   ]
  },
  {
   "cell_type": "markdown",
   "metadata": {},
   "source": [
    "<!-- Equation labels as ordinary links -->\n",
    "<div id=\"_auto6\"></div>\n",
    "\n",
    "$$\n",
    "\\begin{equation}  \n",
    "u(0,t) = u_0(x),  x\\in [0,L]\n",
    "\\label{_auto6} \\tag{10}\n",
    "\\end{equation}\n",
    "$$"
   ]
  },
  {
   "cell_type": "markdown",
   "metadata": {},
   "source": [
    "**align/alignat environments with equation numbers are anti-aligned!**\n",
    "\n",
    "In the `sphinx`, `ipynb`, and `pandoc` output formats, DocOnce rewrites\n",
    "the equations in an `alignat` environment as individual equations in\n",
    "`equation` environments (or more precisely, `sphinx` can work with\n",
    "`alignat*` so only numbered `alignat` equations get rewritten as individual\n",
    "equations). If the alignment is somewhat important, try the best with a\n",
    "manual rewrite in terms of separate `equation` environments, and stick to\n",
    "`align*` and `alignat*` in `sphinx`.\n",
    "\n",
    "\n",
    "\n",
    "\n",
    "If DocOnce had not rewritten the above equations, they would be\n",
    "rendered in ipynb as\n",
    "\n",
    "$$\n",
    "\\begin{alignat}{2}\n",
    "\\frac{\\partial u}{\\partial t} &= \\nabla^2 u, & x\\in (0,L),\n",
    "\\ t\\in (0,T]\\\\ \n",
    "u(0,t) &= u_0(x), & x\\in [0,L]\n",
    "\\end{alignat}\n",
    "$$\n",
    "\n",
    "\n",
    "\n",
    "\n",
    "## Test 7: Multiple, aligned eqnarray equations without label\n",
    "\n",
    "Let us try the old `eqnarray*` environment."
   ]
  },
  {
   "cell_type": "markdown",
   "metadata": {},
   "source": [
    "        !bt\n",
    "        \\begin{eqnarray*}\n",
    "        u(t)&=& e^{-at}\\\\\n",
    "        v(t) - 1 &=& \\frac{du}{dt}\n",
    "        \\end{eqnarray*}\n",
    "        !et\n"
   ]
  },
  {
   "cell_type": "markdown",
   "metadata": {},
   "source": [
    "which results in"
   ]
  },
  {
   "cell_type": "markdown",
   "metadata": {},
   "source": [
    "$$\n",
    "\\begin{eqnarray*}\n",
    "u(t)&=& e^{-at}\\\\ \n",
    "v(t) - 1 &=& \\frac{du}{dt}\n",
    "\\end{eqnarray*}\n",
    "$$"
   ]
  },
  {
   "cell_type": "markdown",
   "metadata": {},
   "source": [
    "## Test 8: Multiple, eqnarrayed equations with label\n",
    "\n",
    "Here we use `eqnarray` with labels:"
   ]
  },
  {
   "cell_type": "markdown",
   "metadata": {},
   "source": [
    "        !bt\n",
    "        \\begin{eqnarray}\n",
    "        u(t)&=& e^{-at}\n",
    "        \\label{eq2c}\\\\\n",
    "        v(t) - 1 &=& \\frac{du}{dt}\n",
    "        \\label{eq3c}\n",
    "        \\end{eqnarray}\n",
    "        !et\n"
   ]
  },
  {
   "cell_type": "markdown",
   "metadata": {},
   "source": [
    "which results in"
   ]
  },
  {
   "cell_type": "markdown",
   "metadata": {},
   "source": [
    "<!-- Equation labels as ordinary links -->\n",
    "<div id=\"eq2c\"></div> <div id=\"eq3c\"></div>\n",
    "\n",
    "$$\n",
    "\\begin{eqnarray}\n",
    "u(t)&=& e^{-at} \\label{eq2c} \\tag{11}\\\\ \n",
    "v(t) - 1 &=& \\frac{du}{dt} \\label{eq3c} \\tag{12}\n",
    "\\end{eqnarray}\n",
    "$$"
   ]
  },
  {
   "cell_type": "markdown",
   "metadata": {},
   "source": [
    "Can we refer to the last equations as the system [(11)](#eq2c)-[(12)](#eq3c)\n",
    "in the ipynb format?\n",
    "\n",
    "## Test 9: The `multiline` environment with label and number\n",
    "\n",
    "The LaTeX code"
   ]
  },
  {
   "cell_type": "markdown",
   "metadata": {},
   "source": [
    "        !bt\n",
    "        \\begin{multline}\n",
    "        \\int_a^b f(x)dx = \\sum_{j=0}^{n} \\frac{1}{2} h(f(a+jh) +\n",
    "        f(a+(j+1)h)) \\\\\n",
    "        =\\frac{h}{2}f(a) + \\frac{h}{2}f(b) + \\sum_{j=1}^n f(a+jh)\n",
    "        \\label{multiline:eq1}\n",
    "        \\end{multline}\n",
    "        !et\n"
   ]
  },
  {
   "cell_type": "markdown",
   "metadata": {},
   "source": [
    "gets rendered as"
   ]
  },
  {
   "cell_type": "markdown",
   "metadata": {},
   "source": [
    "<!-- Equation labels as ordinary links -->\n",
    "<div id=\"multiline:eq1\"></div>\n",
    "\n",
    "$$\n",
    "\\begin{multline}\n",
    "\\int_a^b f(x)dx = \\sum_{j=0}^{n} \\frac{1}{2} h(f(a+jh) +\n",
    "f(a+(j+1)h)) \\\\ \n",
    "=\\frac{h}{2}f(a) + \\frac{h}{2}f(b) + \\sum_{j=1}^n f(a+jh)\n",
    "\\label{multiline:eq1} \\tag{13}\n",
    "\\end{multline}\n",
    "$$"
   ]
  },
  {
   "cell_type": "markdown",
   "metadata": {},
   "source": [
    "and we can hopefully refer to the Trapezoidal rule\n",
    "as the formula [(13)](#multiline:eq1).\n",
    "\n",
    "\n",
    "## Test 10: Splitting equations using a split environment\n",
    "\n",
    "Although `align` can be used to split too long equations, a more obvious\n",
    "command is `split`:"
   ]
  },
  {
   "cell_type": "markdown",
   "metadata": {},
   "source": [
    "        !bt\n",
    "        \\begin{equation}\n",
    "        \\begin{split}\n",
    "        \\int_a^b f(x)dx = \\sum_{j=0}^{n} \\frac{1}{2} h(f(a+jh) +\n",
    "        f(a+(j+1)h)) \\\\\n",
    "        =\\frac{h}{2}f(a) + \\frac{h}{2}f(b) + \\sum_{j=1}^n f(a+jh)\n",
    "        \\end{split}\n",
    "        \\end{equation}\n",
    "        !et\n"
   ]
  },
  {
   "cell_type": "markdown",
   "metadata": {},
   "source": [
    "The result becomes"
   ]
  },
  {
   "cell_type": "markdown",
   "metadata": {},
   "source": [
    "<!-- Equation labels as ordinary links -->\n",
    "<div id=\"_auto7\"></div>\n",
    "\n",
    "$$\n",
    "\\begin{equation}\n",
    "\\begin{split}\n",
    "\\int_a^b f(x)dx = \\sum_{j=0}^{n} \\frac{1}{2} h(f(a+jh) +\n",
    "f(a+(j+1)h)) \\\\ \n",
    "=\\frac{h}{2}f(a) + \\frac{h}{2}f(b) + \\sum_{j=1}^n f(a+jh)\n",
    "\\end{split}\n",
    "\\label{_auto7} \\tag{14}\n",
    "\\end{equation}\n",
    "$$"
   ]
  },
  {
   "cell_type": "markdown",
   "metadata": {},
   "source": [
    "## Test 11: Newcommands and boldface bm vs pmb\n",
    "\n",
    "First we use the plain old pmb package for bold math. The formula"
   ]
  },
  {
   "cell_type": "markdown",
   "metadata": {},
   "source": [
    "        !bt\n",
    "        \\[ \\frac{\\partial\\u}{\\partial t} +\n",
    "        \\u\\cdot\\nabla\\u = \\nu\\nabla^2\\u -\n",
    "        \\frac{1}{\\varrho}\\nabla p,\\]\n",
    "        !et\n"
   ]
  },
  {
   "cell_type": "markdown",
   "metadata": {},
   "source": [
    "and the inline expression `$\\nabla\\pmb{u} (\\pmb{x})\\cdot\\pmb{n}$`\n",
    "(with suitable newcommands using pmb)\n",
    "get rendered as"
   ]
  },
  {
   "cell_type": "markdown",
   "metadata": {},
   "source": [
    "$$\n",
    "\\frac{\\partial\\pmb{u}}{\\partial t} +\n",
    "\\pmb{u}\\cdot\\nabla\\pmb{u} = \\nu\\nabla^2\\pmb{u} -\n",
    "\\frac{1}{\\varrho}\\nabla p,\n",
    "$$"
   ]
  },
  {
   "cell_type": "markdown",
   "metadata": {},
   "source": [
    "and $\\nabla\\pmb{u} (\\pmb{x})\\cdot\\pmb{n}$.\n",
    "\n",
    "Somewhat nicer fonts may appear with the more modern `\\bm` command:"
   ]
  },
  {
   "cell_type": "markdown",
   "metadata": {},
   "source": [
    "        !bt\n",
    "        \\[ \\frac{\\partial\\ubm}{\\partial t} +\n",
    "        \\ubm\\cdot\\nabla\\ubm = \\nu\\nabla^2\\ubm -\n",
    "        \\frac{1}{\\varrho}\\nabla p,\\]\n",
    "        !et\n"
   ]
  },
  {
   "cell_type": "markdown",
   "metadata": {},
   "source": [
    "(backslash `ubm` is a newcommand for bold math $u$), for which we get"
   ]
  },
  {
   "cell_type": "markdown",
   "metadata": {},
   "source": [
    "$$\n",
    "\\frac{\\partial\\boldsymbol{u}}{\\partial t} +\n",
    "\\boldsymbol{u}\\cdot\\nabla\\boldsymbol{u} = \\nu\\nabla^2\\boldsymbol{u} -\n",
    "\\frac{1}{\\varrho}\\nabla p.\n",
    "$$"
   ]
  },
  {
   "cell_type": "markdown",
   "metadata": {},
   "source": [
    "Moreover,"
   ]
  },
  {
   "cell_type": "markdown",
   "metadata": {},
   "source": [
    "        $\\nabla\\boldsymbol{u}(\\boldsymbol{x})\\cdot\\boldsymbol{n}$\n"
   ]
  },
  {
   "cell_type": "markdown",
   "metadata": {},
   "source": [
    "becomes $\\nabla\\boldsymbol{u}(\\boldsymbol{x})\\cdot\\boldsymbol{n}$.\n",
    "\n",
    "**Warning.**\n",
    "\n",
    "Note: for the ipynb format, `\\bm` was substituted by DocOnce\n",
    "to `\\boldsymbol`.\n",
    "\n",
    "\n",
    "\n",
    "\n",
    "# Problematic equations\n",
    "\n",
    "Finally, we collect some problematic formulas in MathJax. They all work\n",
    "fine in LaTeX. Most of them look fine in html too, but some fail in\n",
    "sphinx, ipynb, or markdown.\n",
    "\n",
    "## Colored terms in equations\n",
    "\n",
    "The LaTeX code"
   ]
  },
  {
   "cell_type": "markdown",
   "metadata": {},
   "source": [
    "        !bt\n",
    "        \\[ {\\color{blue}\\frac{\\partial\\u}{\\partial t}} +\n",
    "        \\nabla\\cdot\\nabla\\u = \\nu\\nabla^2\\u -\n",
    "        \\frac{1}{\\varrho}\\nabla p,\\]\n",
    "        !et\n"
   ]
  },
  {
   "cell_type": "markdown",
   "metadata": {},
   "source": [
    "results in"
   ]
  },
  {
   "cell_type": "markdown",
   "metadata": {},
   "source": [
    "$$\n",
    "{\\color{blue}\\frac{\\partial\\pmb{u}}{\\partial t}} +\n",
    "\\nabla\\cdot\\nabla\\pmb{u} = \\nu\\nabla^2\\pmb{u} -\n",
    "\\frac{1}{\\varrho}\\nabla p,\n",
    "$$"
   ]
  },
  {
   "cell_type": "markdown",
   "metadata": {},
   "source": [
    "but correct rendering in ipynb requires omitting the `\\color` command:"
   ]
  },
  {
   "cell_type": "markdown",
   "metadata": {},
   "source": [
    "$$\n",
    "\\frac{\\partial\\pmb{u}}{\\partial t} +\n",
    "\\nabla\\cdot\\nabla\\pmb{u} = \\nu\\nabla^2\\pmb{u} -\n",
    "\\frac{1}{\\varrho}\\nabla p,\n",
    "$$"
   ]
  },
  {
   "cell_type": "markdown",
   "metadata": {},
   "source": [
    "## Bar over symbols\n",
    "\n",
    "Sometimes one must be extra careful with the LaTeX syntax to get sphinx MathJax\n",
    "to render a formula correctly. Consider the combination of a bar over a\n",
    "bold math symbol:"
   ]
  },
  {
   "cell_type": "markdown",
   "metadata": {},
   "source": [
    "        !bt\n",
    "        \\[ \\bar\\f = f_c^{-1}\\f,\\]\n",
    "        !et\n"
   ]
  },
  {
   "cell_type": "markdown",
   "metadata": {},
   "source": [
    "which for ipynb output results in"
   ]
  },
  {
   "cell_type": "markdown",
   "metadata": {},
   "source": [
    "$$\n",
    "\\bar\\boldsymbol{f} = f_c^{-1}\\boldsymbol{f}.\n",
    "$$"
   ]
  },
  {
   "cell_type": "markdown",
   "metadata": {},
   "source": [
    "With sphinx, this formula is not rendered. However, using curly braces for the bar,"
   ]
  },
  {
   "cell_type": "markdown",
   "metadata": {},
   "source": [
    "        !bt\n",
    "        \\[ \\bar{\\f} = f_c^{-1}\\f,\\]\n",
    "        !et\n"
   ]
  },
  {
   "cell_type": "markdown",
   "metadata": {},
   "source": [
    "makes the output correct also for sphinx:"
   ]
  },
  {
   "cell_type": "markdown",
   "metadata": {},
   "source": [
    "$$\n",
    "\\bar{\\boldsymbol{f}} = f_c^{-1}\\boldsymbol{f},\n",
    "$$"
   ]
  },
  {
   "cell_type": "markdown",
   "metadata": {},
   "source": [
    "## Matrix formulas\n",
    "\n",
    "Here is an `align` environment with a label and the `pmatrix`\n",
    "environment for matrices and vectors in LaTeX."
   ]
  },
  {
   "cell_type": "markdown",
   "metadata": {},
   "source": [
    "        !bt\n",
    "        \\begin{align}\n",
    "        \\begin{pmatrix}\n",
    "        G_2 + G_3 & -G_3 & -G_2 & 0 \\\\\n",
    "        -G_3 & G_3 + G_4 & 0 & -G_4 \\\\\n",
    "        -G_2 & 0 & G_1 + G_2 & 0 \\\\\n",
    "        0 & -G_4 & 0 & G_4\n",
    "        \\end{pmatrix}\n",
    "        &=\n",
    "        \\begin{pmatrix}\n",
    "        v_1 \\\\\n",
    "        v_2 \\\\\n",
    "        v_3 \\\\\n",
    "        v_4\n",
    "        \\end{pmatrix}\n",
    "        + \\cdots\n",
    "        \\label{mymatrixeq}\\\\\n",
    "        \\begin{pmatrix}\n",
    "        C_5 + C_6 & -C_6 & 0 & 0 \\\\\n",
    "        -C_6 & C_6 & 0 & 0 \\\\\n",
    "        0 & 0 & 0 & 0 \\\\\n",
    "        0 & 0 & 0 & 0\n",
    "        \\end{pmatrix}\n",
    "        \\frac{d}{dt} &=\n",
    "        \\begin{pmatrix}\n",
    "        v_1 \\\\\n",
    "        v_2 \\\\\n",
    "        v_3 \\\\\n",
    "        v_4\n",
    "        \\end{pmatrix} =\n",
    "        \\begin{pmatrix}\n",
    "        0 \\\\\n",
    "        0 \\\\\n",
    "        0 \\\\\n",
    "        -i_0\n",
    "        \\end{pmatrix}\n",
    "        \\end{align}\n",
    "        !et\n"
   ]
  },
  {
   "cell_type": "markdown",
   "metadata": {},
   "source": [
    "which becomes"
   ]
  },
  {
   "cell_type": "markdown",
   "metadata": {},
   "source": [
    "<!-- Equation labels as ordinary links -->\n",
    "<div id=\"mymatrixeq\"></div>\n",
    "\n",
    "$$\n",
    "\\begin{equation}\n",
    "\\begin{pmatrix}\n",
    "G_2 + G_3 & -G_3 & -G_2 & 0 \\\\ \n",
    "-G_3 & G_3 + G_4 & 0 & -G_4 \\\\ \n",
    "-G_2 & 0 & G_1 + G_2 & 0 \\\\ \n",
    "0 & -G_4 & 0 & G_4\n",
    "\\end{pmatrix}\n",
    "=\n",
    "\\begin{pmatrix}\n",
    "v_1 \\\\ \n",
    "v_2 \\\\ \n",
    "v_3 \\\\ \n",
    "v_4\n",
    "\\end{pmatrix}\n",
    "+ \\cdots\n",
    "\\label{mymatrixeq} \\tag{15}\n",
    "\\end{equation}\n",
    "$$"
   ]
  },
  {
   "cell_type": "markdown",
   "metadata": {},
   "source": [
    "<!-- Equation labels as ordinary links -->\n",
    "<div id=\"_auto8\"></div>\n",
    "\n",
    "$$\n",
    "\\begin{equation}  \n",
    "\\begin{pmatrix}\n",
    "C_5 + C_6 & -C_6 & 0 & 0 \\\\ \n",
    "-C_6 & C_6 & 0 & 0 \\\\ \n",
    "0 & 0 & 0 & 0 \\\\ \n",
    "0 & 0 & 0 & 0\n",
    "\\end{pmatrix}\n",
    "\\frac{d}{dt} =\n",
    "\\begin{pmatrix}\n",
    "v_1 \\\\ \n",
    "v_2 \\\\ \n",
    "v_3 \\\\ \n",
    "v_4\n",
    "\\end{pmatrix} =\n",
    "\\begin{pmatrix}\n",
    "0 \\\\ \n",
    "0 \\\\ \n",
    "0 \\\\ \n",
    "-i_0\n",
    "\\end{pmatrix}\n",
    "\\label{_auto8} \\tag{16}\n",
    "\\end{equation}\n",
    "$$"
   ]
  },
  {
   "cell_type": "markdown",
   "metadata": {},
   "source": [
    "The first equation do not render correctly in ipynb.\n",
    "\n",
    "The same matrices without labels in an `align*` environment:"
   ]
  },
  {
   "cell_type": "markdown",
   "metadata": {},
   "source": [
    "        !bt\n",
    "        \\begin{align*}\n",
    "        \\begin{pmatrix}\n",
    "        G_2 + G_3 & -G_3 & -G_2 & 0 \\\\\n",
    "        -G_3 & G_3 + G_4 & 0 & -G_4 \\\\\n",
    "        -G_2 & 0 & G_1 + G_2 & 0 \\\\\n",
    "        0 & -G_4 & 0 & G_4\n",
    "        \\end{pmatrix}\n",
    "        &=\n",
    "        \\begin{pmatrix}\n",
    "        v_1 \\\\\n",
    "        v_2 \\\\\n",
    "        v_3 \\\\\n",
    "        v_4\n",
    "        \\end{pmatrix}\n",
    "        + \\cdots \\\\\n",
    "        \\begin{pmatrix}\n",
    "        C_5 + C_6 & -C_6 & 0 & 0 \\\\\n",
    "        -C_6 & C_6 & 0 & 0 \\\\\n",
    "        0 & 0 & 0 & 0 \\\\\n",
    "        0 & 0 & 0 & 0\n",
    "        \\end{pmatrix}\n",
    "        \\frac{d}{dt} &=\n",
    "        \\begin{pmatrix}\n",
    "        v_1 \\\\\n",
    "        v_2 \\\\\n",
    "        v_3 \\\\\n",
    "        v_4\n",
    "        \\end{pmatrix} =\n",
    "        \\begin{pmatrix}\n",
    "        0 \\\\\n",
    "        0 \\\\\n",
    "        0 \\\\\n",
    "        -i_0\n",
    "        \\end{pmatrix}\n",
    "        \\end{align*}\n",
    "        !et\n"
   ]
  },
  {
   "cell_type": "markdown",
   "metadata": {},
   "source": [
    "The rendered result becomes"
   ]
  },
  {
   "cell_type": "markdown",
   "metadata": {},
   "source": [
    "$$\n",
    "\\begin{align*}\n",
    "\\begin{pmatrix}\n",
    "G_2 + G_3 & -G_3 & -G_2 & 0 \\\\ \n",
    "-G_3 & G_3 + G_4 & 0 & -G_4 \\\\ \n",
    "-G_2 & 0 & G_1 + G_2 & 0 \\\\ \n",
    "0 & -G_4 & 0 & G_4\n",
    "\\end{pmatrix}\n",
    "&=\n",
    "\\begin{pmatrix}\n",
    "v_1 \\\\ \n",
    "v_2 \\\\ \n",
    "v_3 \\\\ \n",
    "v_4\n",
    "\\end{pmatrix}\n",
    "+ \\cdots \\\\ \n",
    "\\begin{pmatrix}\n",
    "C_5 + C_6 & -C_6 & 0 & 0 \\\\ \n",
    "-C_6 & C_6 & 0 & 0 \\\\ \n",
    "0 & 0 & 0 & 0 \\\\ \n",
    "0 & 0 & 0 & 0\n",
    "\\end{pmatrix}\n",
    "\\frac{d}{dt} &=\n",
    "\\begin{pmatrix}\n",
    "v_1 \\\\ \n",
    "v_2 \\\\ \n",
    "v_3 \\\\ \n",
    "v_4\n",
    "\\end{pmatrix} =\n",
    "\\begin{pmatrix}\n",
    "0 \\\\ \n",
    "0 \\\\ \n",
    "0 \\\\ \n",
    "-i_0\n",
    "\\end{pmatrix}\n",
    "\\end{align*}\n",
    "$$"
   ]
  }
 ],
 "metadata": {},
 "nbformat": 4,
 "nbformat_minor": 0
}
