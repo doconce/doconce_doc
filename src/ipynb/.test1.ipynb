{
 "cells": [
  {
   "cell_type": "markdown",
   "metadata": {},
   "source": [
    "\n",
    "\n",
    "# Test of Jupyter Notebook generator\n",
    "\n",
    "**Core Dump**, Seg. Fault Ltd and Univ. of C. Space\n",
    "\n",
    "**May 14, 2015**\n",
    "\n",
    "\n",
    "This is a test notebook where we solve the following math\n",
    "problem:\n",
    "\n",
    "$$\n",
    "y' = y,\\quad y(0)=2\n",
    "$$\n",
    "\n",
    "\n",
    "\n",
    "The equation is separable, and we find by standard methods\n",
    "that\n",
    "\n",
    "$$\n",
    "y(t) = 2 e^{t}.\n",
    "$$\n",
    "The integration constant is found from the initial condition\n",
    "$y(0)=2$ and equals in this case $2$.\n",
    "\n",
    "\n",
    "We implement the evaulation of $y(t)$ in Python:\n"
   ]
  },
  {
   "cell_type": "code",
   "execution_count": null,
   "metadata": {
    "collapsed": false
   },
   "outputs": [],
   "source": [
    "from numpy import exp\n",
    "\n",
    "def y(t):\n",
    "    return 2*exp(t)\n",
    "\n",
    "# Try values\n",
    "y(0)"
   ]
  },
  {
   "cell_type": "code",
   "execution_count": null,
   "metadata": {
    "collapsed": false
   },
   "outputs": [],
   "source": [
    "y(1), 2*exp(1)"
   ]
  },
  {
   "cell_type": "code",
   "execution_count": null,
   "metadata": {
    "collapsed": false
   },
   "outputs": [],
   "source": [
    "y(2), 2*exp(2)\n"
   ]
  },
  {
   "cell_type": "markdown",
   "metadata": {},
   "source": [
    "\n",
    "\n",
    "This is how we run the notebook generator on files with\n",
    "extension `.aipynb`:\n"
   ]
  },
  {
   "cell_type": "markdown",
   "metadata": {},
   "source": [
    "\n",
    "\n",
    "```Python\n",
    "\n",
    "Terminal> ipynb_generator.py myfile.aipynb\n",
    "```\n"
   ]
  }
 ],
 "metadata": {},
 "nbformat": 4,
 "nbformat_minor": 0
}
